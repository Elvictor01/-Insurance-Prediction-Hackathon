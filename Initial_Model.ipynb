{
 "cells": [
  {
   "cell_type": "code",
   "execution_count": 2,
   "metadata": {},
   "outputs": [],
   "source": [
    "train = pd.read_csv('train_data.csv')\n",
    "test = pd.read_csv('test_data.csv')\n",
    "sub = pd.read_csv('sample_submission (1).csv')"
   ]
  },
  {
   "cell_type": "code",
   "execution_count": 4,
   "metadata": {},
   "outputs": [],
   "source": [
    "#Imputing missing values for both train and test\n",
    "train.fillna(0, inplace=True)\n",
    "test.fillna(0,inplace=True)"
   ]
  },
  {
   "cell_type": "code",
   "execution_count": 5,
   "metadata": {},
   "outputs": [
    {
     "data": {
      "text/html": [
       "<div>\n",
       "<style scoped>\n",
       "    .dataframe tbody tr th:only-of-type {\n",
       "        vertical-align: middle;\n",
       "    }\n",
       "\n",
       "    .dataframe tbody tr th {\n",
       "        vertical-align: top;\n",
       "    }\n",
       "\n",
       "    .dataframe thead th {\n",
       "        text-align: right;\n",
       "    }\n",
       "</style>\n",
       "<table border=\"1\" class=\"dataframe\">\n",
       "  <thead>\n",
       "    <tr style=\"text-align: right;\">\n",
       "      <th></th>\n",
       "      <th>Customer Id</th>\n",
       "      <th>YearOfObservation</th>\n",
       "      <th>Insured_Period</th>\n",
       "      <th>Residential</th>\n",
       "      <th>Building_Painted</th>\n",
       "      <th>Building_Fenced</th>\n",
       "      <th>Garden</th>\n",
       "      <th>Settlement</th>\n",
       "      <th>Building Dimension</th>\n",
       "      <th>Building_Type</th>\n",
       "      <th>Date_of_Occupancy</th>\n",
       "      <th>NumberOfWindows</th>\n",
       "      <th>Geo_Code</th>\n",
       "      <th>Claim</th>\n",
       "    </tr>\n",
       "  </thead>\n",
       "  <tbody>\n",
       "    <tr>\n",
       "      <th>0</th>\n",
       "      <td>H14663</td>\n",
       "      <td>2013</td>\n",
       "      <td>1.0</td>\n",
       "      <td>0</td>\n",
       "      <td>N</td>\n",
       "      <td>V</td>\n",
       "      <td>V</td>\n",
       "      <td>U</td>\n",
       "      <td>290.0</td>\n",
       "      <td>1</td>\n",
       "      <td>1960.0</td>\n",
       "      <td>.</td>\n",
       "      <td>1053</td>\n",
       "      <td>0</td>\n",
       "    </tr>\n",
       "    <tr>\n",
       "      <th>1</th>\n",
       "      <td>H2037</td>\n",
       "      <td>2015</td>\n",
       "      <td>1.0</td>\n",
       "      <td>0</td>\n",
       "      <td>V</td>\n",
       "      <td>N</td>\n",
       "      <td>O</td>\n",
       "      <td>R</td>\n",
       "      <td>490.0</td>\n",
       "      <td>1</td>\n",
       "      <td>1850.0</td>\n",
       "      <td>4</td>\n",
       "      <td>1053</td>\n",
       "      <td>0</td>\n",
       "    </tr>\n",
       "    <tr>\n",
       "      <th>2</th>\n",
       "      <td>H3802</td>\n",
       "      <td>2014</td>\n",
       "      <td>1.0</td>\n",
       "      <td>0</td>\n",
       "      <td>N</td>\n",
       "      <td>V</td>\n",
       "      <td>V</td>\n",
       "      <td>U</td>\n",
       "      <td>595.0</td>\n",
       "      <td>1</td>\n",
       "      <td>1960.0</td>\n",
       "      <td>.</td>\n",
       "      <td>1053</td>\n",
       "      <td>0</td>\n",
       "    </tr>\n",
       "    <tr>\n",
       "      <th>3</th>\n",
       "      <td>H3834</td>\n",
       "      <td>2013</td>\n",
       "      <td>1.0</td>\n",
       "      <td>0</td>\n",
       "      <td>V</td>\n",
       "      <td>V</td>\n",
       "      <td>V</td>\n",
       "      <td>U</td>\n",
       "      <td>2840.0</td>\n",
       "      <td>1</td>\n",
       "      <td>1960.0</td>\n",
       "      <td>.</td>\n",
       "      <td>1053</td>\n",
       "      <td>0</td>\n",
       "    </tr>\n",
       "    <tr>\n",
       "      <th>4</th>\n",
       "      <td>H5053</td>\n",
       "      <td>2014</td>\n",
       "      <td>1.0</td>\n",
       "      <td>0</td>\n",
       "      <td>V</td>\n",
       "      <td>N</td>\n",
       "      <td>O</td>\n",
       "      <td>R</td>\n",
       "      <td>680.0</td>\n",
       "      <td>1</td>\n",
       "      <td>1800.0</td>\n",
       "      <td>3</td>\n",
       "      <td>1053</td>\n",
       "      <td>0</td>\n",
       "    </tr>\n",
       "  </tbody>\n",
       "</table>\n",
       "</div>"
      ],
      "text/plain": [
       "  Customer Id  YearOfObservation  Insured_Period  Residential  \\\n",
       "0      H14663               2013             1.0            0   \n",
       "1       H2037               2015             1.0            0   \n",
       "2       H3802               2014             1.0            0   \n",
       "3       H3834               2013             1.0            0   \n",
       "4       H5053               2014             1.0            0   \n",
       "\n",
       "  Building_Painted Building_Fenced Garden Settlement  Building Dimension  \\\n",
       "0                N               V      V          U               290.0   \n",
       "1                V               N      O          R               490.0   \n",
       "2                N               V      V          U               595.0   \n",
       "3                V               V      V          U              2840.0   \n",
       "4                V               N      O          R               680.0   \n",
       "\n",
       "   Building_Type  Date_of_Occupancy NumberOfWindows Geo_Code  Claim  \n",
       "0              1             1960.0               .     1053      0  \n",
       "1              1             1850.0               4     1053      0  \n",
       "2              1             1960.0               .     1053      0  \n",
       "3              1             1960.0               .     1053      0  \n",
       "4              1             1800.0               3     1053      0  "
      ]
     },
     "execution_count": 5,
     "metadata": {},
     "output_type": "execute_result"
    }
   ],
   "source": [
    "train.head()"
   ]
  },
  {
   "cell_type": "code",
   "execution_count": 6,
   "metadata": {},
   "outputs": [],
   "source": [
    "test_id = test['Customer Id']"
   ]
  },
  {
   "cell_type": "code",
   "execution_count": 7,
   "metadata": {},
   "outputs": [],
   "source": [
    "train = train.drop('Customer Id', axis=1)\n",
    "test = test.drop('Customer Id', axis=1)"
   ]
  },
  {
   "cell_type": "code",
   "execution_count": null,
   "metadata": {},
   "outputs": [],
   "source": []
  },
  {
   "cell_type": "code",
   "execution_count": 8,
   "metadata": {},
   "outputs": [],
   "source": [
    "X = train.drop('Claim', axis=1)\n",
    "y = train.Claim"
   ]
  },
  {
   "cell_type": "code",
   "execution_count": null,
   "metadata": {},
   "outputs": [],
   "source": []
  },
  {
   "cell_type": "code",
   "execution_count": 10,
   "metadata": {},
   "outputs": [],
   "source": [
    "# Split the data into 30% validation and 70% training\n",
    "X_train, X_val, y_train, y_val = train_test_split(X, y, test_size=0.3, random_state=101)"
   ]
  },
  {
   "cell_type": "code",
   "execution_count": 11,
   "metadata": {},
   "outputs": [],
   "source": [
    "categorical_features_indices = np.where(X.dtypes != np.float)[0]"
   ]
  },
  {
   "cell_type": "code",
   "execution_count": 12,
   "metadata": {},
   "outputs": [],
   "source": [
    "model=CatBoostClassifier(iterations=800, #leaf_estimation_iterations=10,#800\n",
    "                              learning_rate=0.1,\n",
    "                              depth=4,#loss_function='MultiClass',#,scale_pos_weight=200,\n",
    "                             #l2_leaf_reg=5,\n",
    "                             bootstrap_type='Bernoulli',\n",
    "                              subsample=0.9,\n",
    "                              eval_metric='AUC',\n",
    "                              metric_period=20,\n",
    "                                   #class_weight s=0,\n",
    "                              #od_type='Iter',\n",
    "                              #od_wait=45,\n",
    "                              #random_seed=10,\n",
    "                              allow_writing_files=False)"
   ]
  },
  {
   "cell_type": "code",
   "execution_count": 13,
   "metadata": {},
   "outputs": [
    {
     "name": "stdout",
     "output_type": "stream",
     "text": [
      "0:\ttest: 0.6444013\tbest: 0.6444013 (0)\ttotal: 305ms\tremaining: 4m 4s\n",
      "20:\ttest: 0.7212907\tbest: 0.7212907 (20)\ttotal: 581ms\tremaining: 21.6s\n",
      "40:\ttest: 0.7262229\tbest: 0.7262229 (40)\ttotal: 809ms\tremaining: 15s\n",
      "60:\ttest: 0.7256807\tbest: 0.7262229 (40)\ttotal: 988ms\tremaining: 12s\n",
      "80:\ttest: 0.7247304\tbest: 0.7262229 (40)\ttotal: 1.16s\tremaining: 10.3s\n",
      "100:\ttest: 0.7261620\tbest: 0.7262229 (40)\ttotal: 1.37s\tremaining: 9.49s\n",
      "120:\ttest: 0.7272291\tbest: 0.7272291 (120)\ttotal: 1.6s\tremaining: 8.97s\n",
      "140:\ttest: 0.7255170\tbest: 0.7272291 (120)\ttotal: 1.8s\tremaining: 8.41s\n",
      "160:\ttest: 0.7257693\tbest: 0.7272291 (120)\ttotal: 2.04s\tremaining: 8.08s\n",
      "180:\ttest: 0.7262574\tbest: 0.7272291 (120)\ttotal: 2.25s\tremaining: 7.68s\n",
      "200:\ttest: 0.7262641\tbest: 0.7272291 (120)\ttotal: 2.45s\tremaining: 7.31s\n",
      "220:\ttest: 0.7265645\tbest: 0.7272291 (120)\ttotal: 2.69s\tremaining: 7.06s\n",
      "240:\ttest: 0.7253631\tbest: 0.7272291 (120)\ttotal: 2.9s\tremaining: 6.74s\n",
      "260:\ttest: 0.7251748\tbest: 0.7272291 (120)\ttotal: 3.12s\tremaining: 6.45s\n",
      "280:\ttest: 0.7233900\tbest: 0.7272291 (120)\ttotal: 3.35s\tremaining: 6.19s\n",
      "300:\ttest: 0.7228755\tbest: 0.7272291 (120)\ttotal: 3.56s\tremaining: 5.9s\n",
      "320:\ttest: 0.7226084\tbest: 0.7272291 (120)\ttotal: 3.79s\tremaining: 5.65s\n",
      "340:\ttest: 0.7232718\tbest: 0.7272291 (120)\ttotal: 3.98s\tremaining: 5.35s\n",
      "360:\ttest: 0.7234478\tbest: 0.7272291 (120)\ttotal: 4.19s\tremaining: 5.1s\n",
      "380:\ttest: 0.7224656\tbest: 0.7272291 (120)\ttotal: 4.4s\tremaining: 4.83s\n",
      "400:\ttest: 0.7221530\tbest: 0.7272291 (120)\ttotal: 4.62s\tremaining: 4.6s\n",
      "420:\ttest: 0.7219843\tbest: 0.7272291 (120)\ttotal: 4.8s\tremaining: 4.32s\n",
      "440:\ttest: 0.7211436\tbest: 0.7272291 (120)\ttotal: 5.03s\tremaining: 4.09s\n",
      "460:\ttest: 0.7202549\tbest: 0.7272291 (120)\ttotal: 5.26s\tremaining: 3.87s\n",
      "480:\ttest: 0.7202488\tbest: 0.7272291 (120)\ttotal: 5.5s\tremaining: 3.65s\n",
      "500:\ttest: 0.7202611\tbest: 0.7272291 (120)\ttotal: 5.71s\tremaining: 3.41s\n",
      "520:\ttest: 0.7199644\tbest: 0.7272291 (120)\ttotal: 5.94s\tremaining: 3.18s\n",
      "540:\ttest: 0.7190339\tbest: 0.7272291 (120)\ttotal: 6.18s\tremaining: 2.96s\n",
      "560:\ttest: 0.7185169\tbest: 0.7272291 (120)\ttotal: 6.43s\tremaining: 2.74s\n",
      "580:\ttest: 0.7176380\tbest: 0.7272291 (120)\ttotal: 6.66s\tremaining: 2.51s\n",
      "600:\ttest: 0.7154692\tbest: 0.7272291 (120)\ttotal: 6.91s\tremaining: 2.29s\n",
      "620:\ttest: 0.7144279\tbest: 0.7272291 (120)\ttotal: 7.14s\tremaining: 2.06s\n",
      "640:\ttest: 0.7132622\tbest: 0.7272291 (120)\ttotal: 7.37s\tremaining: 1.83s\n",
      "660:\ttest: 0.7131711\tbest: 0.7272291 (120)\ttotal: 7.61s\tremaining: 1.6s\n",
      "680:\ttest: 0.7121741\tbest: 0.7272291 (120)\ttotal: 7.84s\tremaining: 1.37s\n",
      "700:\ttest: 0.7114873\tbest: 0.7272291 (120)\ttotal: 8.07s\tremaining: 1.14s\n",
      "720:\ttest: 0.7112091\tbest: 0.7272291 (120)\ttotal: 8.32s\tremaining: 912ms\n",
      "740:\ttest: 0.7114614\tbest: 0.7272291 (120)\ttotal: 8.59s\tremaining: 684ms\n",
      "760:\ttest: 0.7123538\tbest: 0.7272291 (120)\ttotal: 8.82s\tremaining: 452ms\n",
      "780:\ttest: 0.7126111\tbest: 0.7272291 (120)\ttotal: 9.02s\tremaining: 220ms\n",
      "799:\ttest: 0.7117101\tbest: 0.7272291 (120)\ttotal: 9.26s\tremaining: 0us\n",
      "\n",
      "bestTest = 0.7272291426\n",
      "bestIteration = 120\n",
      "\n",
      "Shrink model to first 121 iterations.\n"
     ]
    },
    {
     "data": {
      "text/plain": [
       "<catboost.core.CatBoostClassifier at 0xae464c5748>"
      ]
     },
     "execution_count": 13,
     "metadata": {},
     "output_type": "execute_result"
    }
   ],
   "source": [
    "model.fit(X_train, y_train, cat_features=categorical_features_indices, eval_set=(X_val, y_val))"
   ]
  },
  {
   "cell_type": "code",
   "execution_count": 14,
   "metadata": {},
   "outputs": [],
   "source": [
    "y_pred=model.predict_proba(test)[:, 1]"
   ]
  },
  {
   "cell_type": "code",
   "execution_count": 16,
   "metadata": {},
   "outputs": [
    {
     "name": "stdout",
     "output_type": "stream",
     "text": [
      "0.7272291425617291\n"
     ]
    }
   ],
   "source": [
    "print(roc_auc_score(y_val, model.predict_proba(X_val)[:, 1]))"
   ]
  },
  {
   "cell_type": "code",
   "execution_count": 17,
   "metadata": {},
   "outputs": [
    {
     "data": {
      "image/png": "[encoded data removed]",
      "text/plain": [
       "<Figure size 1440x720 with 1 Axes>"
      ]
     },
     "metadata": {
      "needs_background": "light"
     },
     "output_type": "display_data"
    }
   ],
   "source": [
    "featimport = pd.DataFrame({'imp':model.feature_importances_, 'col': X.columns})\n",
    "featimport = featimport.sort_values(['imp', 'col'], ascending=[True, False]).iloc[-30:]\n",
    "_ = fea_imp.plot(kind='barh', x='col', y='imp', figsize=(20, 10))\n",
    "plt.savefig('catboost_feature_importance.png')    "
   ]
  },
  {
   "cell_type": "code",
   "execution_count": 18,
   "metadata": {},
   "outputs": [],
   "source": [
    "d = {\"Customer Id\": test_id, 'Claim': y_pred}\n",
    "test_predictions = pd.DataFrame(data=d)\n",
    "test_predictions = test_predictions[[\"Customer Id\", 'Claim']]"
   ]
  },
  {
   "cell_type": "code",
   "execution_count": 19,
   "metadata": {},
   "outputs": [
    {
     "data": {
      "text/html": [
       "<div>\n",
       "<style scoped>\n",
       "    .dataframe tbody tr th:only-of-type {\n",
       "        vertical-align: middle;\n",
       "    }\n",
       "\n",
       "    .dataframe tbody tr th {\n",
       "        vertical-align: top;\n",
       "    }\n",
       "\n",
       "    .dataframe thead th {\n",
       "        text-align: right;\n",
       "    }\n",
       "</style>\n",
       "<table border=\"1\" class=\"dataframe\">\n",
       "  <thead>\n",
       "    <tr style=\"text-align: right;\">\n",
       "      <th></th>\n",
       "      <th>Customer Id</th>\n",
       "      <th>Claim</th>\n",
       "    </tr>\n",
       "  </thead>\n",
       "  <tbody>\n",
       "    <tr>\n",
       "      <th>0</th>\n",
       "      <td>H11920</td>\n",
       "      <td>0.101828</td>\n",
       "    </tr>\n",
       "    <tr>\n",
       "      <th>1</th>\n",
       "      <td>H11921</td>\n",
       "      <td>0.082176</td>\n",
       "    </tr>\n",
       "    <tr>\n",
       "      <th>2</th>\n",
       "      <td>H9805</td>\n",
       "      <td>0.049343</td>\n",
       "    </tr>\n",
       "    <tr>\n",
       "      <th>3</th>\n",
       "      <td>H7493</td>\n",
       "      <td>0.173697</td>\n",
       "    </tr>\n",
       "    <tr>\n",
       "      <th>4</th>\n",
       "      <td>H7494</td>\n",
       "      <td>0.153369</td>\n",
       "    </tr>\n",
       "  </tbody>\n",
       "</table>\n",
       "</div>"
      ],
      "text/plain": [
       "  Customer Id     Claim\n",
       "0      H11920  0.101828\n",
       "1      H11921  0.082176\n",
       "2       H9805  0.049343\n",
       "3       H7493  0.173697\n",
       "4       H7494  0.153369"
      ]
     },
     "execution_count": 19,
     "metadata": {},
     "output_type": "execute_result"
    }
   ],
   "source": [
    "test_predictions.head()"
   ]
  },
  {
   "cell_type": "code",
   "execution_count": 20,
   "metadata": {},
   "outputs": [],
   "source": [
    "test_predictions.to_csv('first.csv', index=False)"
   ]
  },
  {
   "cell_type": "code",
   "execution_count": null,
   "metadata": {
    "collapsed": true
   },
   "outputs": [],
   "source": []
  }
 ],
 "metadata": {
  "kernelspec": {
   "display_name": "Python 3",
   "language": "python",
   "name": "python3"
  },
  "language_info": {
   "codemirror_mode": {
    "name": "ipython",
    "version": 3
   },
   "file_extension": ".py",
   "mimetype": "text/x-python",
   "name": "python",
   "nbconvert_exporter": "python",
   "pygments_lexer": "ipython3",
   "version": "3.7.6"
  }
 },
 "nbformat": 4,
 "nbformat_minor": 2
}
